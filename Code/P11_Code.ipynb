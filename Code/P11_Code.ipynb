{
 "cells": [
  {
   "cell_type": "markdown",
   "metadata": {},
   "source": [
    "## **Predicting Body Mass Index**"
   ]
  },
  {
   "cell_type": "markdown",
   "metadata": {},
   "source": [
    "Aim:    PANDAS, NUMPY, sqlalchemy,pyodbc, PANDAS_PROFILING, SEABORN, MATPLOTLIB, SKLEARN, XGBOOST, KAGGLE\n",
    "\n",
    "ensure font is the same on dashboard and presentation \n",
    "make dashboard legends square??? \n",
    "\n",
    "\n",
    "TAKE GENDER OUT, ITS NOT DOING ANYTHING WITHIN THE MODEL! "
   ]
  },
  {
   "cell_type": "code",
   "execution_count": 2,
   "metadata": {},
   "outputs": [],
   "source": [
    "# Importing project dependencies \n",
    "\n",
    "# General \n",
    "import pandas as pd \n",
    "import numpy as np\n",
    "\n",
    "# Data warehousing \n",
    "from sqlalchemy import create_engine\n",
    "import pyodbc\n",
    "import urllib\n",
    "\n",
    "# Exploratory Data Analysis & Visualisation \n",
    "%matplotlib inline\n",
    "import pandas_profiling\n",
    "import seaborn as sns\n",
    "import matplotlib.pyplot as plt\n",
    "\n",
    "# Feature Engineering and Modelling \n",
    "from sklearn.model_selection import train_test_split\n",
    "from sklearn.preprocessing import StandardScaler\n",
    "from sklearn.neighbors import KNeighborsClassifier\n",
    "from sklearn.svm import LinearSVC\n",
    "from sklearn.tree import DecisionTreeClassifier\n",
    "from sklearn.ensemble import RandomForestClassifier, AdaBoostClassifier\n",
    "from sklearn.naive_bayes import GaussianNB\n",
    "from sklearn.discriminant_analysis import QuadraticDiscriminantAnalysis\n",
    "from xgboost import XGBClassifier\n",
    "\n",
    "# Model imporvement \n",
    "from sklearn.metrics import accuracy_score,  classification_report, confusion_matrix, roc_curve, roc_auc_score\n",
    "from sklearn.model_selection import GridSearchCV, cross_val_score, StratifiedKFold\n",
    "from sklearn import metrics\n",
    "import math\n",
    "\n",
    "# Model export for deployment \n",
    "import pickle"
   ]
  },
  {
   "cell_type": "markdown",
   "metadata": {},
   "source": [
    "#### **----------------------------------  1. Data collection  -----------------------------------**"
   ]
  },
  {
   "cell_type": "code",
   "execution_count": 3,
   "metadata": {},
   "outputs": [
    {
     "name": "stdout",
     "output_type": "stream",
     "text": [
      "Downloading bmidataset.zip to ..\\Data\n",
      "\n"
     ]
    },
    {
     "name": "stderr",
     "output_type": "stream",
     "text": [
      "\n",
      "  0%|          | 0.00/2.19k [00:00<?, ?B/s]\n",
      "100%|██████████| 2.19k/2.19k [00:00<00:00, 2.24MB/s]\n"
     ]
    }
   ],
   "source": [
    "# Importing data through API \n",
    "!kaggle datasets download -d yasserh/bmidataset -p ..\\Data --unzip "
   ]
  },
  {
   "cell_type": "code",
   "execution_count": 4,
   "metadata": {},
   "outputs": [],
   "source": [
    "# Reading data into dataframe \n",
    "data = pd.read_csv('../Data/bmi.csv')"
   ]
  },
  {
   "cell_type": "markdown",
   "metadata": {},
   "source": [
    "#### **----------------------------------  2. Data pre-processing  -----------------------------------**"
   ]
  },
  {
   "cell_type": "code",
   "execution_count": 5,
   "metadata": {},
   "outputs": [
    {
     "data": {
      "text/html": [
       "<div>\n",
       "<style scoped>\n",
       "    .dataframe tbody tr th:only-of-type {\n",
       "        vertical-align: middle;\n",
       "    }\n",
       "\n",
       "    .dataframe tbody tr th {\n",
       "        vertical-align: top;\n",
       "    }\n",
       "\n",
       "    .dataframe thead th {\n",
       "        text-align: right;\n",
       "    }\n",
       "</style>\n",
       "<table border=\"1\" class=\"dataframe\">\n",
       "  <thead>\n",
       "    <tr style=\"text-align: right;\">\n",
       "      <th></th>\n",
       "      <th>Gender</th>\n",
       "      <th>Height</th>\n",
       "      <th>Weight</th>\n",
       "      <th>Index</th>\n",
       "    </tr>\n",
       "  </thead>\n",
       "  <tbody>\n",
       "    <tr>\n",
       "      <th>0</th>\n",
       "      <td>Male</td>\n",
       "      <td>174</td>\n",
       "      <td>96</td>\n",
       "      <td>4</td>\n",
       "    </tr>\n",
       "    <tr>\n",
       "      <th>1</th>\n",
       "      <td>Male</td>\n",
       "      <td>189</td>\n",
       "      <td>87</td>\n",
       "      <td>2</td>\n",
       "    </tr>\n",
       "    <tr>\n",
       "      <th>2</th>\n",
       "      <td>Female</td>\n",
       "      <td>185</td>\n",
       "      <td>110</td>\n",
       "      <td>4</td>\n",
       "    </tr>\n",
       "    <tr>\n",
       "      <th>3</th>\n",
       "      <td>Female</td>\n",
       "      <td>195</td>\n",
       "      <td>104</td>\n",
       "      <td>3</td>\n",
       "    </tr>\n",
       "    <tr>\n",
       "      <th>4</th>\n",
       "      <td>Male</td>\n",
       "      <td>149</td>\n",
       "      <td>61</td>\n",
       "      <td>3</td>\n",
       "    </tr>\n",
       "  </tbody>\n",
       "</table>\n",
       "</div>"
      ],
      "text/plain": [
       "   Gender  Height  Weight  Index\n",
       "0    Male     174      96      4\n",
       "1    Male     189      87      2\n",
       "2  Female     185     110      4\n",
       "3  Female     195     104      3\n",
       "4    Male     149      61      3"
      ]
     },
     "execution_count": 5,
     "metadata": {},
     "output_type": "execute_result"
    }
   ],
   "source": [
    "# Viewing first 5 rows of data\n",
    "data.head()"
   ]
  },
  {
   "cell_type": "markdown",
   "metadata": {},
   "source": [
    "Formula: weight (kg) / [height (m)]2"
   ]
  },
  {
   "cell_type": "code",
   "execution_count": 6,
   "metadata": {},
   "outputs": [],
   "source": [
    "%%capture \n",
    "# Supressing cell run output \n",
    "\n",
    "\"\"\"\n",
    "BMI\tCondition \n",
    "# Below 18.5   == Underweight        ----  INDEX == 0\n",
    "# 18.5-24.9    == Normal weight      ----  INDEX == 1\n",
    "# 25-29.9\t   == Overweight         ----  INDEX == 2\n",
    "# 30-39.9      == Obese              ----  INDEX == 3 \n",
    "# 40 and more  == Severely Obese     ----  INDEX == 4\n",
    "\"\"\""
   ]
  },
  {
   "cell_type": "code",
   "execution_count": 7,
   "metadata": {},
   "outputs": [],
   "source": [
    "# Correcting BMI Indexes (Divided by 100 as height came orignally in cm)\n",
    "data['newIndex'] = data['Weight'] / (data['Height']/100)**2"
   ]
  },
  {
   "cell_type": "code",
   "execution_count": 8,
   "metadata": {},
   "outputs": [
    {
     "data": {
      "text/html": [
       "<div>\n",
       "<style scoped>\n",
       "    .dataframe tbody tr th:only-of-type {\n",
       "        vertical-align: middle;\n",
       "    }\n",
       "\n",
       "    .dataframe tbody tr th {\n",
       "        vertical-align: top;\n",
       "    }\n",
       "\n",
       "    .dataframe thead th {\n",
       "        text-align: right;\n",
       "    }\n",
       "</style>\n",
       "<table border=\"1\" class=\"dataframe\">\n",
       "  <thead>\n",
       "    <tr style=\"text-align: right;\">\n",
       "      <th></th>\n",
       "      <th>Gender</th>\n",
       "      <th>Height</th>\n",
       "      <th>Weight</th>\n",
       "      <th>Index</th>\n",
       "      <th>newIndex</th>\n",
       "    </tr>\n",
       "  </thead>\n",
       "  <tbody>\n",
       "    <tr>\n",
       "      <th>0</th>\n",
       "      <td>Male</td>\n",
       "      <td>174</td>\n",
       "      <td>96</td>\n",
       "      <td>4</td>\n",
       "      <td>31.708284</td>\n",
       "    </tr>\n",
       "    <tr>\n",
       "      <th>1</th>\n",
       "      <td>Male</td>\n",
       "      <td>189</td>\n",
       "      <td>87</td>\n",
       "      <td>2</td>\n",
       "      <td>24.355421</td>\n",
       "    </tr>\n",
       "    <tr>\n",
       "      <th>2</th>\n",
       "      <td>Female</td>\n",
       "      <td>185</td>\n",
       "      <td>110</td>\n",
       "      <td>4</td>\n",
       "      <td>32.140248</td>\n",
       "    </tr>\n",
       "    <tr>\n",
       "      <th>3</th>\n",
       "      <td>Female</td>\n",
       "      <td>195</td>\n",
       "      <td>104</td>\n",
       "      <td>3</td>\n",
       "      <td>27.350427</td>\n",
       "    </tr>\n",
       "    <tr>\n",
       "      <th>4</th>\n",
       "      <td>Male</td>\n",
       "      <td>149</td>\n",
       "      <td>61</td>\n",
       "      <td>3</td>\n",
       "      <td>27.476240</td>\n",
       "    </tr>\n",
       "  </tbody>\n",
       "</table>\n",
       "</div>"
      ],
      "text/plain": [
       "   Gender  Height  Weight  Index   newIndex\n",
       "0    Male     174      96      4  31.708284\n",
       "1    Male     189      87      2  24.355421\n",
       "2  Female     185     110      4  32.140248\n",
       "3  Female     195     104      3  27.350427\n",
       "4    Male     149      61      3  27.476240"
      ]
     },
     "execution_count": 8,
     "metadata": {},
     "output_type": "execute_result"
    }
   ],
   "source": [
    "# Viewing first 5 rows of data\n",
    "data.head()"
   ]
  },
  {
   "cell_type": "code",
   "execution_count": 9,
   "metadata": {},
   "outputs": [],
   "source": [
    "# BMI conditions to correct the data index to UK(NHS) classifications\n",
    "def set_bmi(row):\n",
    "    if row[\"newIndex\"] < 18.5:\n",
    "        return 0\n",
    "    elif row[\"newIndex\"] >= 18.5 and  row[\"newIndex\"] <= 24.999 :\n",
    "        return 1\n",
    "    elif row[\"newIndex\"] >= 25 and  row[\"newIndex\"] <= 29.999 :\n",
    "        return 2\n",
    "    elif row[\"newIndex\"] >= 30 and  row[\"newIndex\"] <= 39.999 :\n",
    "        return 3\n",
    "    else:\n",
    "        return 4\n",
    "\n",
    "# Using assign to add new column BMI based on the function conditions\n",
    "data = data.assign(BMI=data.apply(set_bmi, axis=1))\n",
    "\n",
    "pd.options.mode.chained_assignment = None  # Supressing SettingWithCopyWarning message\n",
    "\n",
    "# Creating 'bmiclass' field \n",
    "data['bmiclass'] = ''\n",
    "\n",
    "# Ouputing labelled column based on bmi of individual\n",
    "data.bmiclass[data['BMI'] == 0] = 'Underweight'\n",
    "data.bmiclass[data['BMI'] == 1] = 'Normal weight'\n",
    "data.bmiclass[data['BMI'] == 2] = 'Overweight'\n",
    "data.bmiclass[data['BMI'] == 3] = 'Obese'\n",
    "data.bmiclass[data['BMI'] == 4] = 'Severely obese'\n",
    "\n",
    "# Saving cleaned data as csv for visualisation\n",
    "data.to_csv('../Data/bmi_clean.csv', index=False)\n",
    "\n",
    "# Dropping unnecessary columns\n",
    "data.drop(['Index','newIndex'], axis=1, inplace=True)"
   ]
  },
  {
   "cell_type": "code",
   "execution_count": 10,
   "metadata": {},
   "outputs": [
    {
     "data": {
      "text/html": [
       "<div>\n",
       "<style scoped>\n",
       "    .dataframe tbody tr th:only-of-type {\n",
       "        vertical-align: middle;\n",
       "    }\n",
       "\n",
       "    .dataframe tbody tr th {\n",
       "        vertical-align: top;\n",
       "    }\n",
       "\n",
       "    .dataframe thead th {\n",
       "        text-align: right;\n",
       "    }\n",
       "</style>\n",
       "<table border=\"1\" class=\"dataframe\">\n",
       "  <thead>\n",
       "    <tr style=\"text-align: right;\">\n",
       "      <th></th>\n",
       "      <th>Gender</th>\n",
       "      <th>Height</th>\n",
       "      <th>Weight</th>\n",
       "      <th>BMI</th>\n",
       "      <th>bmiclass</th>\n",
       "    </tr>\n",
       "  </thead>\n",
       "  <tbody>\n",
       "    <tr>\n",
       "      <th>0</th>\n",
       "      <td>Male</td>\n",
       "      <td>174</td>\n",
       "      <td>96</td>\n",
       "      <td>3</td>\n",
       "      <td>Obese</td>\n",
       "    </tr>\n",
       "    <tr>\n",
       "      <th>1</th>\n",
       "      <td>Male</td>\n",
       "      <td>189</td>\n",
       "      <td>87</td>\n",
       "      <td>1</td>\n",
       "      <td>Normal weight</td>\n",
       "    </tr>\n",
       "    <tr>\n",
       "      <th>2</th>\n",
       "      <td>Female</td>\n",
       "      <td>185</td>\n",
       "      <td>110</td>\n",
       "      <td>3</td>\n",
       "      <td>Obese</td>\n",
       "    </tr>\n",
       "    <tr>\n",
       "      <th>3</th>\n",
       "      <td>Female</td>\n",
       "      <td>195</td>\n",
       "      <td>104</td>\n",
       "      <td>2</td>\n",
       "      <td>Overweight</td>\n",
       "    </tr>\n",
       "    <tr>\n",
       "      <th>4</th>\n",
       "      <td>Male</td>\n",
       "      <td>149</td>\n",
       "      <td>61</td>\n",
       "      <td>2</td>\n",
       "      <td>Overweight</td>\n",
       "    </tr>\n",
       "  </tbody>\n",
       "</table>\n",
       "</div>"
      ],
      "text/plain": [
       "   Gender  Height  Weight  BMI       bmiclass\n",
       "0    Male     174      96    3          Obese\n",
       "1    Male     189      87    1  Normal weight\n",
       "2  Female     185     110    3          Obese\n",
       "3  Female     195     104    2     Overweight\n",
       "4    Male     149      61    2     Overweight"
      ]
     },
     "execution_count": 10,
     "metadata": {},
     "output_type": "execute_result"
    }
   ],
   "source": [
    "# Viewing first 5 rows of data\n",
    "data.head()"
   ]
  },
  {
   "cell_type": "code",
   "execution_count": 11,
   "metadata": {},
   "outputs": [
    {
     "data": {
      "text/plain": [
       "Gender      object\n",
       "Height       int64\n",
       "Weight       int64\n",
       "BMI          int64\n",
       "bmiclass    object\n",
       "dtype: object"
      ]
     },
     "execution_count": 11,
     "metadata": {},
     "output_type": "execute_result"
    }
   ],
   "source": [
    "# Viewing the data types of the columns\n",
    "data.dtypes"
   ]
  },
  {
   "cell_type": "code",
   "execution_count": 12,
   "metadata": {},
   "outputs": [
    {
     "data": {
      "text/plain": [
       "(500, 5)"
      ]
     },
     "execution_count": 12,
     "metadata": {},
     "output_type": "execute_result"
    }
   ],
   "source": [
    "# Viewing dataset shape\n",
    "data.shape"
   ]
  },
  {
   "cell_type": "code",
   "execution_count": 13,
   "metadata": {},
   "outputs": [
    {
     "name": "stdout",
     "output_type": "stream",
     "text": [
      "<class 'pandas.core.frame.DataFrame'>\n",
      "RangeIndex: 500 entries, 0 to 499\n",
      "Data columns (total 5 columns):\n",
      " #   Column    Non-Null Count  Dtype \n",
      "---  ------    --------------  ----- \n",
      " 0   Gender    500 non-null    object\n",
      " 1   Height    500 non-null    int64 \n",
      " 2   Weight    500 non-null    int64 \n",
      " 3   BMI       500 non-null    int64 \n",
      " 4   bmiclass  500 non-null    object\n",
      "dtypes: int64(3), object(2)\n",
      "memory usage: 19.7+ KB\n"
     ]
    }
   ],
   "source": [
    "# 1st check for null values and datatype check \n",
    "data.info()"
   ]
  },
  {
   "cell_type": "code",
   "execution_count": 14,
   "metadata": {},
   "outputs": [
    {
     "data": {
      "text/plain": [
       "Gender      0\n",
       "Height      0\n",
       "Weight      0\n",
       "BMI         0\n",
       "bmiclass    0\n",
       "dtype: int64"
      ]
     },
     "execution_count": 14,
     "metadata": {},
     "output_type": "execute_result"
    }
   ],
   "source": [
    "# 2nd check for null values\n",
    "data.isnull().sum()"
   ]
  },
  {
   "cell_type": "code",
   "execution_count": 15,
   "metadata": {},
   "outputs": [
    {
     "data": {
      "text/plain": [
       "Gender        2\n",
       "Height       60\n",
       "Weight      110\n",
       "BMI           5\n",
       "bmiclass      5\n",
       "dtype: int64"
      ]
     },
     "execution_count": 15,
     "metadata": {},
     "output_type": "execute_result"
    }
   ],
   "source": [
    "# Unique count for each variable\n",
    "data.nunique()"
   ]
  },
  {
   "cell_type": "code",
   "execution_count": 16,
   "metadata": {},
   "outputs": [
    {
     "data": {
      "text/html": [
       "<div>\n",
       "<style scoped>\n",
       "    .dataframe tbody tr th:only-of-type {\n",
       "        vertical-align: middle;\n",
       "    }\n",
       "\n",
       "    .dataframe tbody tr th {\n",
       "        vertical-align: top;\n",
       "    }\n",
       "\n",
       "    .dataframe thead th {\n",
       "        text-align: right;\n",
       "    }\n",
       "</style>\n",
       "<table border=\"1\" class=\"dataframe\">\n",
       "  <thead>\n",
       "    <tr style=\"text-align: right;\">\n",
       "      <th></th>\n",
       "      <th>Height</th>\n",
       "      <th>Weight</th>\n",
       "      <th>BMI</th>\n",
       "    </tr>\n",
       "  </thead>\n",
       "  <tbody>\n",
       "    <tr>\n",
       "      <th>count</th>\n",
       "      <td>500.000000</td>\n",
       "      <td>500.000000</td>\n",
       "      <td>500.000000</td>\n",
       "    </tr>\n",
       "    <tr>\n",
       "      <th>mean</th>\n",
       "      <td>169.944000</td>\n",
       "      <td>106.000000</td>\n",
       "      <td>2.806000</td>\n",
       "    </tr>\n",
       "    <tr>\n",
       "      <th>std</th>\n",
       "      <td>16.375261</td>\n",
       "      <td>32.382607</td>\n",
       "      <td>1.280486</td>\n",
       "    </tr>\n",
       "    <tr>\n",
       "      <th>min</th>\n",
       "      <td>140.000000</td>\n",
       "      <td>50.000000</td>\n",
       "      <td>0.000000</td>\n",
       "    </tr>\n",
       "    <tr>\n",
       "      <th>25%</th>\n",
       "      <td>156.000000</td>\n",
       "      <td>80.000000</td>\n",
       "      <td>2.000000</td>\n",
       "    </tr>\n",
       "    <tr>\n",
       "      <th>50%</th>\n",
       "      <td>170.500000</td>\n",
       "      <td>106.000000</td>\n",
       "      <td>3.000000</td>\n",
       "    </tr>\n",
       "    <tr>\n",
       "      <th>75%</th>\n",
       "      <td>184.000000</td>\n",
       "      <td>136.000000</td>\n",
       "      <td>4.000000</td>\n",
       "    </tr>\n",
       "    <tr>\n",
       "      <th>max</th>\n",
       "      <td>199.000000</td>\n",
       "      <td>160.000000</td>\n",
       "      <td>4.000000</td>\n",
       "    </tr>\n",
       "  </tbody>\n",
       "</table>\n",
       "</div>"
      ],
      "text/plain": [
       "           Height      Weight         BMI\n",
       "count  500.000000  500.000000  500.000000\n",
       "mean   169.944000  106.000000    2.806000\n",
       "std     16.375261   32.382607    1.280486\n",
       "min    140.000000   50.000000    0.000000\n",
       "25%    156.000000   80.000000    2.000000\n",
       "50%    170.500000  106.000000    3.000000\n",
       "75%    184.000000  136.000000    4.000000\n",
       "max    199.000000  160.000000    4.000000"
      ]
     },
     "execution_count": 16,
     "metadata": {},
     "output_type": "execute_result"
    }
   ],
   "source": [
    "# Viewing summary of statistics for numeric columns\n",
    "data.describe()"
   ]
  },
  {
   "cell_type": "code",
   "execution_count": 17,
   "metadata": {},
   "outputs": [],
   "source": [
    "# (SQL standard) Formatting column headers by removing potential capital letters and spaces in column headers \n",
    "data.columns = data.columns.str.lower()\n",
    "data.columns = data.columns.str.replace(' ','_')"
   ]
  },
  {
   "cell_type": "markdown",
   "metadata": {},
   "source": [
    "#### **----------------------------------  3. Data Warehousing  -----------------------------------**"
   ]
  },
  {
   "cell_type": "code",
   "execution_count": 18,
   "metadata": {},
   "outputs": [],
   "source": [
    "# Saving cleaned data as csv\n",
    "data.to_csv('../Data/bmi_cleanML.csv', index=False)"
   ]
  },
  {
   "cell_type": "code",
   "execution_count": 19,
   "metadata": {},
   "outputs": [],
   "source": [
    "# def ETL_SQLServer(Server,db,tablename):\n",
    "#   \"\"\"\n",
    "#     :param Server: Destination Server\n",
    "#     :param db: Destination Database name MUST ALREADY EXIST\n",
    "#     :param tablename: Project ID and Dataset name\n",
    "#     \"\"\"\n",
    "\n",
    "#   # SQL table header format\n",
    "#   tablename = tablename.lower()\n",
    "#   tablename = tablename.replace(' ','_')\n",
    "\n",
    "#   quoted = urllib.parse.quote_plus(\"DRIVER={SQL Server};SERVER=%s;DATABASE=%s\"%(Server,db))\n",
    "#   engine = create_engine('mssql+pyodbc:///?odbc_connect={}'.format(quoted))\n",
    "\n",
    "#   data.to_sql('{tb}'.format(tb=tablename), schema='dbo', con = engine, index=False, if_exists='replace')\n",
    "\n",
    "#   return(\"ETL successful, {num} rows loaded into table: {tb}.\".format(num=len(data.iloc[:,0]), tb=tablename))"
   ]
  },
  {
   "cell_type": "code",
   "execution_count": 20,
   "metadata": {},
   "outputs": [],
   "source": [
    "# # Function to warehouse dataframe\n",
    "# ETL_SQLServer(\"[SERVER NAME]\",\"Projects\",\"P11 bmi\")"
   ]
  },
  {
   "cell_type": "markdown",
   "metadata": {},
   "source": [
    "#### **----------------------------------  4. Exploratory data analysis  -----------------------------------**"
   ]
  },
  {
   "cell_type": "code",
   "execution_count": 21,
   "metadata": {},
   "outputs": [
    {
     "name": "stdout",
     "output_type": "stream",
     "text": [
      "Female    255\n",
      "Male      245\n",
      "Name: gender, dtype: int64\n",
      "4    203\n",
      "3    130\n",
      "2     68\n",
      "1     65\n",
      "0     34\n",
      "Name: bmi, dtype: int64\n"
     ]
    }
   ],
   "source": [
    "# Checking distribution of categorical fields \n",
    "print(data.gender.value_counts())\n",
    "print(data.bmi.value_counts())"
   ]
  },
  {
   "cell_type": "code",
   "execution_count": 22,
   "metadata": {},
   "outputs": [
    {
     "data": {
      "text/html": [
       "<div>\n",
       "<style scoped>\n",
       "    .dataframe tbody tr th:only-of-type {\n",
       "        vertical-align: middle;\n",
       "    }\n",
       "\n",
       "    .dataframe tbody tr th {\n",
       "        vertical-align: top;\n",
       "    }\n",
       "\n",
       "    .dataframe thead th {\n",
       "        text-align: right;\n",
       "    }\n",
       "</style>\n",
       "<table border=\"1\" class=\"dataframe\">\n",
       "  <thead>\n",
       "    <tr style=\"text-align: right;\">\n",
       "      <th></th>\n",
       "      <th>height</th>\n",
       "      <th>weight</th>\n",
       "      <th>bmi</th>\n",
       "    </tr>\n",
       "  </thead>\n",
       "  <tbody>\n",
       "    <tr>\n",
       "      <th>count</th>\n",
       "      <td>500.000000</td>\n",
       "      <td>500.000000</td>\n",
       "      <td>500.000000</td>\n",
       "    </tr>\n",
       "    <tr>\n",
       "      <th>mean</th>\n",
       "      <td>169.944000</td>\n",
       "      <td>106.000000</td>\n",
       "      <td>2.806000</td>\n",
       "    </tr>\n",
       "    <tr>\n",
       "      <th>std</th>\n",
       "      <td>16.375261</td>\n",
       "      <td>32.382607</td>\n",
       "      <td>1.280486</td>\n",
       "    </tr>\n",
       "    <tr>\n",
       "      <th>min</th>\n",
       "      <td>140.000000</td>\n",
       "      <td>50.000000</td>\n",
       "      <td>0.000000</td>\n",
       "    </tr>\n",
       "    <tr>\n",
       "      <th>25%</th>\n",
       "      <td>156.000000</td>\n",
       "      <td>80.000000</td>\n",
       "      <td>2.000000</td>\n",
       "    </tr>\n",
       "    <tr>\n",
       "      <th>50%</th>\n",
       "      <td>170.500000</td>\n",
       "      <td>106.000000</td>\n",
       "      <td>3.000000</td>\n",
       "    </tr>\n",
       "    <tr>\n",
       "      <th>75%</th>\n",
       "      <td>184.000000</td>\n",
       "      <td>136.000000</td>\n",
       "      <td>4.000000</td>\n",
       "    </tr>\n",
       "    <tr>\n",
       "      <th>max</th>\n",
       "      <td>199.000000</td>\n",
       "      <td>160.000000</td>\n",
       "      <td>4.000000</td>\n",
       "    </tr>\n",
       "  </tbody>\n",
       "</table>\n",
       "</div>"
      ],
      "text/plain": [
       "           height      weight         bmi\n",
       "count  500.000000  500.000000  500.000000\n",
       "mean   169.944000  106.000000    2.806000\n",
       "std     16.375261   32.382607    1.280486\n",
       "min    140.000000   50.000000    0.000000\n",
       "25%    156.000000   80.000000    2.000000\n",
       "50%    170.500000  106.000000    3.000000\n",
       "75%    184.000000  136.000000    4.000000\n",
       "max    199.000000  160.000000    4.000000"
      ]
     },
     "execution_count": 22,
     "metadata": {},
     "output_type": "execute_result"
    }
   ],
   "source": [
    "# Viewing summary of statistics for numeric columns\n",
    "data.describe()"
   ]
  },
  {
   "cell_type": "code",
   "execution_count": 23,
   "metadata": {},
   "outputs": [
    {
     "name": "stderr",
     "output_type": "stream",
     "text": [
      "C:\\Users\\matti\\AppData\\Local\\Temp/ipykernel_10928/495980808.py:7: UserWarning: Matplotlib is currently using agg, which is a non-GUI backend, so cannot show the figure.\n",
      "  plt.show()\n"
     ]
    }
   ],
   "source": [
    "# Displaying the distribution of data based on a five number summary (“minimum”, first quartile (Q1), median, third quartile (Q3), and “maximum”). \n",
    "chart = data.boxplot(column = ['height', 'weight'])\n",
    "chart.set_xticklabels(chart.get_xticklabels(), rotation = 0)\n",
    "plt.title('The Factor of Body Mass Index', fontsize = 15, color = 'maroon', pad = 12)\n",
    "plt.xlabel('Factors')\n",
    "plt.ylabel('Count')\n",
    "plt.show()"
   ]
  },
  {
   "cell_type": "code",
   "execution_count": 24,
   "metadata": {},
   "outputs": [],
   "source": [
    "%%capture \n",
    "# Supressing cell run output \n",
    "\n",
    "\"\"\"\n",
    "# Viewing data distribution of 'height' column\n",
    "sns.boxplot(x='height', data=data, color='yellow')\n",
    "\n",
    "# Removing the spines from the right and upper portion of the plot by default.\n",
    "sns.despine()\n",
    "\"\"\""
   ]
  },
  {
   "cell_type": "code",
   "execution_count": 25,
   "metadata": {},
   "outputs": [],
   "source": [
    "%%capture \n",
    "# Supressing cell run output \n",
    "\n",
    "\"\"\"\n",
    "# Viewing data distribution of 'weight' column\n",
    "sns.boxplot(x='weight', data=data, color='green')\n",
    "\n",
    "# Removing the spines from the right and upper portion of the plot by default.\n",
    "sns.despine()\n",
    "\"\"\""
   ]
  },
  {
   "cell_type": "code",
   "execution_count": 26,
   "metadata": {},
   "outputs": [],
   "source": [
    "# PairPlot to show relationships in a dataset. *(To view list of palettes enter random value, all palettes will be shown in error message)\n",
    "plot = sns.pairplot(data, vars=['height', 'weight'], \n",
    "             hue=\"bmi\", palette='RdYlGn', diag_kind = 'kde',\n",
    "             plot_kws = {'alpha': 0.6, 's': 80, 'edgecolor': 'k'},\n",
    "             height = 4)\n",
    "\n",
    "# Setting plot title \n",
    "plt.suptitle('Pair Plot of Height and Weight Correlation to BMI', \n",
    "             size = 20, y=1.04);\n",
    "\n",
    "# Removing the spines from the right and upper portion of the plot by default.\n",
    "sns.despine()"
   ]
  },
  {
   "cell_type": "code",
   "execution_count": 27,
   "metadata": {},
   "outputs": [],
   "source": [
    "pd.options.mode.chained_assignment = None  # Supressing SettingWithCopyWarning message\n",
    "\n",
    "# Creating 'bmiclass' field \n",
    "data['bmiclass'] = ''\n",
    "\n",
    "# Ouputing labelled column based on bmi of individual\n",
    "data.bmiclass[data['bmi'] == 0] = 'Underweight'\n",
    "data.bmiclass[data['bmi'] == 1] = 'Normal weight'\n",
    "data.bmiclass[data['bmi'] == 2] = 'Overweight'\n",
    "data.bmiclass[data['bmi'] == 3] = 'Obese'\n",
    "data.bmiclass[data['bmi'] == 4] = 'Severely obese'"
   ]
  },
  {
   "cell_type": "code",
   "execution_count": 28,
   "metadata": {},
   "outputs": [],
   "source": [
    "# Saving cleaned data as csv\n",
    "data.to_csv('../Data/bmi_clean.csv', index=False)"
   ]
  },
  {
   "cell_type": "code",
   "execution_count": 29,
   "metadata": {},
   "outputs": [],
   "source": [
    "# Calculations for bar chart \n",
    "Underweight = data[data['bmiclass'] == 'Underweight']['bmi'].count() / data.shape[0] * 100\n",
    "Normalweight = data[data['bmiclass'] == 'Normal weight']['bmi'].count() / data.shape[0] * 100\n",
    "Overweight = data[data['bmiclass'] == 'Overweight']['bmi'].count() / data.shape[0] * 100\n",
    "Obese = data[data['bmiclass'] == 'Obese']['bmi'].count() / data.shape[0] * 100\n",
    "Severelyobese = data[data['bmiclass'] == 'Severely obese']['bmi'].count() / data.shape[0] * 100\n"
   ]
  },
  {
   "cell_type": "code",
   "execution_count": 30,
   "metadata": {},
   "outputs": [
    {
     "name": "stderr",
     "output_type": "stream",
     "text": [
      "C:\\Users\\matti\\AppData\\Local\\Temp/ipykernel_10928/2039109783.py:16: UserWarning: Matplotlib is currently using agg, which is a non-GUI backend, so cannot show the figure.\n",
      "  plt.show()\n"
     ]
    }
   ],
   "source": [
    "# Showing distribtuon of target values \n",
    "fig, ax = plt.subplots()\n",
    "sns.countplot(x='bmi', palette=\"Set3\", data=data)\n",
    "bmiclasses = ['Underweight','Healthy','Overweight', 'Obese','Severely obese']\n",
    "plt.xticks([0, 1, 2, 3, 4], bmiclasses)\n",
    "plt.xlabel('BMI', size=15, labelpad=12, color='grey')\n",
    "plt.ylabel('Count', size=15, labelpad=12, color='grey')\n",
    "plt.title(\"Distribution of BMI in dataset\", size=15, pad=20)\n",
    "plt.ylim(0, 250)\n",
    "plt.text(-0.2, 10, f\"{round(Underweight, 2)}%\", fontsize=12)\n",
    "plt.text(0.75, 10, f\"{round(Normalweight, 2)}%\", fontsize=12)\n",
    "plt.text(1.75, 10, f\"{round(Overweight, 2)}%\", fontsize=12)\n",
    "plt.text(2.75, 10, f\"{round(Obese, 2)}%\", fontsize=12)\n",
    "plt.text(3.75, 10, f\"{round(Severelyobese, 2)}%\", fontsize=12)\n",
    "sns.despine()\n",
    "plt.show()"
   ]
  },
  {
   "cell_type": "code",
   "execution_count": 31,
   "metadata": {},
   "outputs": [],
   "source": [
    "# Calculations for bar chart \n",
    "Male = data[data['gender'] == 'Male']['bmi'].count() / data.shape[0] * 100\n",
    "Female = data[data['gender'] == 'Female']['bmi'].count() / data.shape[0] * 100"
   ]
  },
  {
   "cell_type": "code",
   "execution_count": 32,
   "metadata": {},
   "outputs": [
    {
     "name": "stderr",
     "output_type": "stream",
     "text": [
      "C:\\Users\\matti\\AppData\\Local\\Temp/ipykernel_10928/351321948.py:13: UserWarning: Matplotlib is currently using agg, which is a non-GUI backend, so cannot show the figure.\n",
      "  plt.show()\n"
     ]
    }
   ],
   "source": [
    "# Showing distribtuon of target values \n",
    "fig, ax = plt.subplots()\n",
    "sns.countplot(x='gender',hue=\"bmi\", palette=\"Set3\", data=data)\n",
    "gender = ['Male','Female']\n",
    "plt.xticks([0, 1], gender)\n",
    "plt.xlabel('BMI', size=15, labelpad=12, color='grey')\n",
    "plt.ylabel('Count', size=15, labelpad=12, color='grey')\n",
    "plt.title(\"Distribution of BMI by gender\", size=15, pad=20)\n",
    "plt.ylim(0, 250)\n",
    "plt.text(-0.2, 150, f\"{round(Male, 2)}%\", fontsize=12)\n",
    "plt.text(0.75, 150, f\"{round(Female, 2)}%\", fontsize=12)\n",
    "sns.despine()\n",
    "plt.show()"
   ]
  },
  {
   "cell_type": "code",
   "execution_count": 33,
   "metadata": {},
   "outputs": [
    {
     "data": {
      "text/html": [
       "<div>\n",
       "<style scoped>\n",
       "    .dataframe tbody tr th:only-of-type {\n",
       "        vertical-align: middle;\n",
       "    }\n",
       "\n",
       "    .dataframe tbody tr th {\n",
       "        vertical-align: top;\n",
       "    }\n",
       "\n",
       "    .dataframe thead th {\n",
       "        text-align: right;\n",
       "    }\n",
       "</style>\n",
       "<table border=\"1\" class=\"dataframe\">\n",
       "  <thead>\n",
       "    <tr style=\"text-align: right;\">\n",
       "      <th></th>\n",
       "      <th>height</th>\n",
       "      <th>weight</th>\n",
       "      <th>bmi</th>\n",
       "    </tr>\n",
       "  </thead>\n",
       "  <tbody>\n",
       "    <tr>\n",
       "      <th>height</th>\n",
       "      <td>1.000000</td>\n",
       "      <td>0.000446</td>\n",
       "      <td>-0.416359</td>\n",
       "    </tr>\n",
       "    <tr>\n",
       "      <th>weight</th>\n",
       "      <td>0.000446</td>\n",
       "      <td>1.000000</td>\n",
       "      <td>0.812227</td>\n",
       "    </tr>\n",
       "    <tr>\n",
       "      <th>bmi</th>\n",
       "      <td>-0.416359</td>\n",
       "      <td>0.812227</td>\n",
       "      <td>1.000000</td>\n",
       "    </tr>\n",
       "  </tbody>\n",
       "</table>\n",
       "</div>"
      ],
      "text/plain": [
       "          height    weight       bmi\n",
       "height  1.000000  0.000446 -0.416359\n",
       "weight  0.000446  1.000000  0.812227\n",
       "bmi    -0.416359  0.812227  1.000000"
      ]
     },
     "execution_count": 33,
     "metadata": {},
     "output_type": "execute_result"
    }
   ],
   "source": [
    "#correlation of each variable\n",
    "data.corr()"
   ]
  },
  {
   "cell_type": "code",
   "execution_count": 34,
   "metadata": {},
   "outputs": [],
   "source": [
    "# Viewing correlations of each features in dataset \n",
    "corrmat = data.corr()\n",
    "top_corr_features = corrmat.index\n",
    "plt.figure(figsize=(8,8))\n",
    "\n",
    "# Plotting heat map\n",
    "plot = sns.heatmap(data[top_corr_features].corr(),annot=True,cmap=\"RdYlGn\")"
   ]
  },
  {
   "cell_type": "code",
   "execution_count": 35,
   "metadata": {},
   "outputs": [],
   "source": [
    "# PANDAS PROFILING\n",
    "\n",
    "# profile report of each variable\n",
    "# pandas_profiling.ProfileReport(data)\n",
    "\n",
    "# We only use the first 100 data points\n",
    "# prof = pandas_profiling.ProfileReport(data.sample(n=100)) \n",
    "# prof.to_file(output_file='output.html')"
   ]
  },
  {
   "cell_type": "markdown",
   "metadata": {},
   "source": [
    "#### **----------------------------------  5. Feature Engineering  -----------------------------------**"
   ]
  },
  {
   "cell_type": "code",
   "execution_count": 36,
   "metadata": {},
   "outputs": [],
   "source": [
    "# Dropping fields that wont benefit the model\n",
    "data.drop(['bmiclass'], axis=1,inplace=True)"
   ]
  },
  {
   "cell_type": "code",
   "execution_count": 37,
   "metadata": {},
   "outputs": [
    {
     "data": {
      "text/html": [
       "<div>\n",
       "<style scoped>\n",
       "    .dataframe tbody tr th:only-of-type {\n",
       "        vertical-align: middle;\n",
       "    }\n",
       "\n",
       "    .dataframe tbody tr th {\n",
       "        vertical-align: top;\n",
       "    }\n",
       "\n",
       "    .dataframe thead th {\n",
       "        text-align: right;\n",
       "    }\n",
       "</style>\n",
       "<table border=\"1\" class=\"dataframe\">\n",
       "  <thead>\n",
       "    <tr style=\"text-align: right;\">\n",
       "      <th></th>\n",
       "      <th>gender</th>\n",
       "      <th>height</th>\n",
       "      <th>weight</th>\n",
       "      <th>bmi</th>\n",
       "    </tr>\n",
       "  </thead>\n",
       "  <tbody>\n",
       "    <tr>\n",
       "      <th>0</th>\n",
       "      <td>Male</td>\n",
       "      <td>174</td>\n",
       "      <td>96</td>\n",
       "      <td>3</td>\n",
       "    </tr>\n",
       "    <tr>\n",
       "      <th>1</th>\n",
       "      <td>Male</td>\n",
       "      <td>189</td>\n",
       "      <td>87</td>\n",
       "      <td>1</td>\n",
       "    </tr>\n",
       "    <tr>\n",
       "      <th>2</th>\n",
       "      <td>Female</td>\n",
       "      <td>185</td>\n",
       "      <td>110</td>\n",
       "      <td>3</td>\n",
       "    </tr>\n",
       "    <tr>\n",
       "      <th>3</th>\n",
       "      <td>Female</td>\n",
       "      <td>195</td>\n",
       "      <td>104</td>\n",
       "      <td>2</td>\n",
       "    </tr>\n",
       "    <tr>\n",
       "      <th>4</th>\n",
       "      <td>Male</td>\n",
       "      <td>149</td>\n",
       "      <td>61</td>\n",
       "      <td>2</td>\n",
       "    </tr>\n",
       "  </tbody>\n",
       "</table>\n",
       "</div>"
      ],
      "text/plain": [
       "   gender  height  weight  bmi\n",
       "0    Male     174      96    3\n",
       "1    Male     189      87    1\n",
       "2  Female     185     110    3\n",
       "3  Female     195     104    2\n",
       "4    Male     149      61    2"
      ]
     },
     "execution_count": 37,
     "metadata": {},
     "output_type": "execute_result"
    }
   ],
   "source": [
    "# Viewing first 5 rows of data \n",
    "data.head()"
   ]
  },
  {
   "cell_type": "code",
   "execution_count": 38,
   "metadata": {},
   "outputs": [],
   "source": [
    "# One hot encoding for encoding categorical variables\n",
    "final_data = pd.get_dummies(data, drop_first=True)"
   ]
  },
  {
   "cell_type": "code",
   "execution_count": 39,
   "metadata": {},
   "outputs": [
    {
     "data": {
      "text/html": [
       "<div>\n",
       "<style scoped>\n",
       "    .dataframe tbody tr th:only-of-type {\n",
       "        vertical-align: middle;\n",
       "    }\n",
       "\n",
       "    .dataframe tbody tr th {\n",
       "        vertical-align: top;\n",
       "    }\n",
       "\n",
       "    .dataframe thead th {\n",
       "        text-align: right;\n",
       "    }\n",
       "</style>\n",
       "<table border=\"1\" class=\"dataframe\">\n",
       "  <thead>\n",
       "    <tr style=\"text-align: right;\">\n",
       "      <th></th>\n",
       "      <th>height</th>\n",
       "      <th>weight</th>\n",
       "      <th>bmi</th>\n",
       "      <th>gender_Male</th>\n",
       "    </tr>\n",
       "  </thead>\n",
       "  <tbody>\n",
       "    <tr>\n",
       "      <th>0</th>\n",
       "      <td>174</td>\n",
       "      <td>96</td>\n",
       "      <td>3</td>\n",
       "      <td>1</td>\n",
       "    </tr>\n",
       "    <tr>\n",
       "      <th>1</th>\n",
       "      <td>189</td>\n",
       "      <td>87</td>\n",
       "      <td>1</td>\n",
       "      <td>1</td>\n",
       "    </tr>\n",
       "    <tr>\n",
       "      <th>2</th>\n",
       "      <td>185</td>\n",
       "      <td>110</td>\n",
       "      <td>3</td>\n",
       "      <td>0</td>\n",
       "    </tr>\n",
       "    <tr>\n",
       "      <th>3</th>\n",
       "      <td>195</td>\n",
       "      <td>104</td>\n",
       "      <td>2</td>\n",
       "      <td>0</td>\n",
       "    </tr>\n",
       "    <tr>\n",
       "      <th>4</th>\n",
       "      <td>149</td>\n",
       "      <td>61</td>\n",
       "      <td>2</td>\n",
       "      <td>1</td>\n",
       "    </tr>\n",
       "    <tr>\n",
       "      <th>...</th>\n",
       "      <td>...</td>\n",
       "      <td>...</td>\n",
       "      <td>...</td>\n",
       "      <td>...</td>\n",
       "    </tr>\n",
       "    <tr>\n",
       "      <th>495</th>\n",
       "      <td>150</td>\n",
       "      <td>153</td>\n",
       "      <td>4</td>\n",
       "      <td>0</td>\n",
       "    </tr>\n",
       "    <tr>\n",
       "      <th>496</th>\n",
       "      <td>184</td>\n",
       "      <td>121</td>\n",
       "      <td>3</td>\n",
       "      <td>0</td>\n",
       "    </tr>\n",
       "    <tr>\n",
       "      <th>497</th>\n",
       "      <td>141</td>\n",
       "      <td>136</td>\n",
       "      <td>4</td>\n",
       "      <td>0</td>\n",
       "    </tr>\n",
       "    <tr>\n",
       "      <th>498</th>\n",
       "      <td>150</td>\n",
       "      <td>95</td>\n",
       "      <td>4</td>\n",
       "      <td>1</td>\n",
       "    </tr>\n",
       "    <tr>\n",
       "      <th>499</th>\n",
       "      <td>173</td>\n",
       "      <td>131</td>\n",
       "      <td>4</td>\n",
       "      <td>1</td>\n",
       "    </tr>\n",
       "  </tbody>\n",
       "</table>\n",
       "<p>500 rows × 4 columns</p>\n",
       "</div>"
      ],
      "text/plain": [
       "     height  weight  bmi  gender_Male\n",
       "0       174      96    3            1\n",
       "1       189      87    1            1\n",
       "2       185     110    3            0\n",
       "3       195     104    2            0\n",
       "4       149      61    2            1\n",
       "..      ...     ...  ...          ...\n",
       "495     150     153    4            0\n",
       "496     184     121    3            0\n",
       "497     141     136    4            0\n",
       "498     150      95    4            1\n",
       "499     173     131    4            1\n",
       "\n",
       "[500 rows x 4 columns]"
      ]
     },
     "execution_count": 39,
     "metadata": {},
     "output_type": "execute_result"
    }
   ],
   "source": [
    "# Viewing final dataset for model \n",
    "final_data"
   ]
  },
  {
   "cell_type": "code",
   "execution_count": 40,
   "metadata": {},
   "outputs": [],
   "source": [
    "# Splitting dependent and independent features\n",
    "X = final_data.drop('bmi', axis = 1)\n",
    "y = final_data['bmi']"
   ]
  },
  {
   "cell_type": "code",
   "execution_count": 41,
   "metadata": {},
   "outputs": [
    {
     "data": {
      "text/html": [
       "<div>\n",
       "<style scoped>\n",
       "    .dataframe tbody tr th:only-of-type {\n",
       "        vertical-align: middle;\n",
       "    }\n",
       "\n",
       "    .dataframe tbody tr th {\n",
       "        vertical-align: top;\n",
       "    }\n",
       "\n",
       "    .dataframe thead th {\n",
       "        text-align: right;\n",
       "    }\n",
       "</style>\n",
       "<table border=\"1\" class=\"dataframe\">\n",
       "  <thead>\n",
       "    <tr style=\"text-align: right;\">\n",
       "      <th></th>\n",
       "      <th>height</th>\n",
       "      <th>weight</th>\n",
       "      <th>gender_Male</th>\n",
       "    </tr>\n",
       "  </thead>\n",
       "  <tbody>\n",
       "    <tr>\n",
       "      <th>0</th>\n",
       "      <td>174</td>\n",
       "      <td>96</td>\n",
       "      <td>1</td>\n",
       "    </tr>\n",
       "    <tr>\n",
       "      <th>1</th>\n",
       "      <td>189</td>\n",
       "      <td>87</td>\n",
       "      <td>1</td>\n",
       "    </tr>\n",
       "    <tr>\n",
       "      <th>2</th>\n",
       "      <td>185</td>\n",
       "      <td>110</td>\n",
       "      <td>0</td>\n",
       "    </tr>\n",
       "    <tr>\n",
       "      <th>3</th>\n",
       "      <td>195</td>\n",
       "      <td>104</td>\n",
       "      <td>0</td>\n",
       "    </tr>\n",
       "    <tr>\n",
       "      <th>4</th>\n",
       "      <td>149</td>\n",
       "      <td>61</td>\n",
       "      <td>1</td>\n",
       "    </tr>\n",
       "  </tbody>\n",
       "</table>\n",
       "</div>"
      ],
      "text/plain": [
       "   height  weight  gender_Male\n",
       "0     174      96            1\n",
       "1     189      87            1\n",
       "2     185     110            0\n",
       "3     195     104            0\n",
       "4     149      61            1"
      ]
     },
     "execution_count": 41,
     "metadata": {},
     "output_type": "execute_result"
    }
   ],
   "source": [
    "# Viewing first 5 rows of X\n",
    "X.head()"
   ]
  },
  {
   "cell_type": "code",
   "execution_count": 42,
   "metadata": {},
   "outputs": [
    {
     "name": "stdout",
     "output_type": "stream",
     "text": [
      "(400, 3)\n",
      "(100, 3)\n"
     ]
    }
   ],
   "source": [
    "# Using train test split to split train and test data \n",
    "X_train, X_test, y_train, y_test = train_test_split(X, y, test_size = 0.2, random_state = 23)\n",
    "\n",
    "# Viewing shape of train / test data\n",
    "print(X_train.shape)\n",
    "print(X_test.shape)"
   ]
  },
  {
   "cell_type": "code",
   "execution_count": 43,
   "metadata": {},
   "outputs": [],
   "source": [
    "# Scaling \n",
    "ss = StandardScaler()\n",
    "\n",
    "X_train = ss.fit_transform(X_train)\n",
    "X_test = ss.transform(X_test)"
   ]
  },
  {
   "cell_type": "markdown",
   "metadata": {},
   "source": [
    "#### **----------------------------------  6. Modelling  -----------------------------------**"
   ]
  },
  {
   "cell_type": "code",
   "execution_count": 44,
   "metadata": {},
   "outputs": [],
   "source": [
    "# Preparing algorithms in a list\n",
    "random_state = 23\n",
    "classifiers = [\n",
    "    KNeighborsClassifier(n_neighbors = 5),\n",
    "    LinearSVC(),\n",
    "    DecisionTreeClassifier(criterion = 'gini', max_depth = 3),\n",
    "    RandomForestClassifier(max_features = 'sqrt', n_jobs = 1, verbose = 1),\n",
    "    XGBClassifier(use_label_encoder=False),\n",
    "    AdaBoostClassifier(),\n",
    "    GaussianNB(),\n",
    "    QuadraticDiscriminantAnalysis()]"
   ]
  },
  {
   "cell_type": "code",
   "execution_count": 45,
   "metadata": {},
   "outputs": [
    {
     "name": "stdout",
     "output_type": "stream",
     "text": [
      "==============================\n",
      "KNeighborsClassifier\n",
      "****  Results  ****\n",
      "Accuracy: 89.0000%\n",
      "\n",
      "\n",
      "==============================\n",
      "LinearSVC\n",
      "****  Results  ****\n",
      "Accuracy: 66.0000%\n",
      "\n",
      "\n",
      "==============================\n",
      "DecisionTreeClassifier\n",
      "****  Results  ****\n",
      "Accuracy: 69.0000%\n",
      "\n",
      "\n",
      "==============================\n",
      "RandomForestClassifier\n",
      "****  Results  ****\n",
      "Accuracy: 89.0000%\n",
      "\n",
      "\n"
     ]
    },
    {
     "name": "stderr",
     "output_type": "stream",
     "text": [
      "[Parallel(n_jobs=1)]: Using backend SequentialBackend with 1 concurrent workers.\n",
      "[Parallel(n_jobs=1)]: Done 100 out of 100 | elapsed:    0.0s finished\n",
      "[Parallel(n_jobs=1)]: Using backend SequentialBackend with 1 concurrent workers.\n",
      "[Parallel(n_jobs=1)]: Done 100 out of 100 | elapsed:    0.0s finished\n"
     ]
    },
    {
     "name": "stdout",
     "output_type": "stream",
     "text": [
      "[23:34:16] WARNING: C:/Users/Administrator/workspace/xgboost-win64_release_1.5.1/src/learner.cc:1115: Starting in XGBoost 1.3.0, the default evaluation metric used with the objective 'multi:softprob' was changed from 'merror' to 'mlogloss'. Explicitly set eval_metric if you'd like to restore the old behavior.\n",
      "==============================\n",
      "XGBClassifier\n",
      "****  Results  ****\n",
      "Accuracy: 87.0000%\n",
      "\n",
      "\n",
      "==============================\n",
      "AdaBoostClassifier\n",
      "****  Results  ****\n",
      "Accuracy: 41.0000%\n",
      "\n",
      "\n",
      "==============================\n",
      "GaussianNB\n",
      "****  Results  ****\n",
      "Accuracy: 68.0000%\n",
      "\n",
      "\n",
      "==============================\n",
      "QuadraticDiscriminantAnalysis\n",
      "****  Results  ****\n",
      "Accuracy: 95.0000%\n",
      "\n",
      "\n",
      "==============================\n"
     ]
    }
   ],
   "source": [
    "pd.options.mode.chained_assignment = None  # Supressing SettingWithCopyWarning\n",
    "\n",
    "# Creating a df to show models and their accuracy \n",
    "log_cols = [\"Classifier\", \"Accuracy\"]\n",
    "log = pd.DataFrame(columns = log_cols)\n",
    "\n",
    "for clf in classifiers:\n",
    "    clf.fit(X_train, y_train)\n",
    "    name = clf.__class__.__name__\n",
    "    print(\"=\" * 30)\n",
    "    print(name)\n",
    "    print('****  Results  ****')\n",
    "    \n",
    "    train_predictions = clf.predict(X_test)\n",
    "    acc = accuracy_score(y_test, train_predictions)\n",
    "    print(\"Accuracy: {:.4%}\".format(acc))\n",
    "    print(\"\\n\")\n",
    "    \n",
    "    # Creating new df and appending results onto initial df \n",
    "    log_entry = pd.DataFrame([[name, acc * 100]], columns = log_cols)\n",
    "    log = log.append(log_entry)\n",
    "    \n",
    "print(\"=\" * 30)"
   ]
  },
  {
   "cell_type": "markdown",
   "metadata": {},
   "source": [
    "#### **----------------------------------  7. Cross Validation -----------------------------------**"
   ]
  },
  {
   "cell_type": "code",
   "execution_count": 46,
   "metadata": {},
   "outputs": [
    {
     "name": "stderr",
     "output_type": "stream",
     "text": [
      "C:\\Users\\matti\\AppData\\Local\\Temp/ipykernel_10928/3522384902.py:7: UserWarning: Matplotlib is currently using agg, which is a non-GUI backend, so cannot show the figure.\n",
      "  plt.show()\n"
     ]
    }
   ],
   "source": [
    "# Visualising accuracy models\n",
    "plt.figure(figsize = (10,6))\n",
    "sns.set_color_codes(\"muted\")\n",
    "sns.barplot(x = 'Accuracy', y = 'Classifier', data = log, palette=\"rainbow\")\n",
    "plt.xlabel('Accuracy %')\n",
    "plt.title('Accuracy Score of Classification Model')\n",
    "plt.show()"
   ]
  },
  {
   "cell_type": "code",
   "execution_count": 47,
   "metadata": {},
   "outputs": [
    {
     "name": "stderr",
     "output_type": "stream",
     "text": [
      "C:\\Users\\matti\\anaconda3\\envs\\P11\\lib\\site-packages\\seaborn\\_decorators.py:36: FutureWarning: Pass the following variables as keyword args: x, y. From version 0.12, the only valid positional argument will be `data`, and passing other arguments without an explicit keyword will result in an error or misinterpretation.\n",
      "  warnings.warn(\n"
     ]
    }
   ],
   "source": [
    "# Cross validate model with Kfold stratified cross validation\n",
    "kfold = StratifiedKFold(n_splits=5)\n",
    "\n",
    "# Modeling step Test differents algorithms \n",
    "cv_results = []\n",
    "for classifier in classifiers :\n",
    "    cv_results.append(cross_val_score(classifier, X_train, y = y_train, scoring = \"accuracy\", cv = kfold, n_jobs=4))\n",
    "\n",
    "cv_means = []\n",
    "cv_std = []\n",
    "for cv_result in cv_results:\n",
    "    cv_means.append(cv_result.mean())\n",
    "    cv_std.append(cv_result.std())\n",
    "\n",
    "cv_res = pd.DataFrame({\"CrossValMeans\":cv_means,\"CrossValerrors\": cv_std,\"Algorithm\":[\"KNN\",\"LinearSVC\",\"DecisionTree\",\"Random Forrest\",\"XGBClassifier\",\"AdaBoost\",\"GaussianNB\",\"QuadraticDA\"]})\n",
    "\n",
    "g = sns.barplot(\"CrossValMeans\",\"Algorithm\",data = cv_res, palette=\"Set3\",orient = \"h\",**{'xerr':cv_std})\n",
    "g.set_xlabel(\"Mean Accuracy\")\n",
    "g = g.set_title(\"Cross validation scores\")"
   ]
  },
  {
   "cell_type": "markdown",
   "metadata": {},
   "source": [
    "#### **----------------------------------  8. Evaluation -----------------------------------**"
   ]
  },
  {
   "cell_type": "markdown",
   "metadata": {},
   "source": [
    "We will determine the parameters and values that we want to search in each of our models. Then, we will perform the GridSearchCV and set the best parameters obtained in our model."
   ]
  },
  {
   "cell_type": "code",
   "execution_count": 48,
   "metadata": {},
   "outputs": [],
   "source": [
    "def print_best_model(model):\n",
    "    \"\"\"\n",
    "    Prints the best parameteres, score and estimator for the model given.\n",
    "    \"\"\"\n",
    "    print(f\"The best parameters are: {model.best_params_}\")\n",
    "    print(f\"The best model score is: {model.best_score_}\")    \n",
    "    print(f\"The best estimator is: {model.best_estimator_}\")"
   ]
  },
  {
   "cell_type": "markdown",
   "metadata": {},
   "source": [
    "**QuadraticDiscriminantAnalysis**"
   ]
  },
  {
   "cell_type": "code",
   "execution_count": 49,
   "metadata": {},
   "outputs": [
    {
     "name": "stderr",
     "output_type": "stream",
     "text": [
      "C:\\Users\\matti\\anaconda3\\envs\\P11\\lib\\site-packages\\sklearn\\discriminant_analysis.py:903: RuntimeWarning: invalid value encountered in power\n",
      "  X2 = np.dot(Xm, R * (S ** (-0.5)))\n",
      "C:\\Users\\matti\\anaconda3\\envs\\P11\\lib\\site-packages\\sklearn\\discriminant_analysis.py:906: RuntimeWarning: invalid value encountered in log\n",
      "  u = np.asarray([np.sum(np.log(s)) for s in self.scalings_])\n",
      "C:\\Users\\matti\\anaconda3\\envs\\P11\\lib\\site-packages\\sklearn\\discriminant_analysis.py:903: RuntimeWarning: invalid value encountered in power\n",
      "  X2 = np.dot(Xm, R * (S ** (-0.5)))\n",
      "C:\\Users\\matti\\anaconda3\\envs\\P11\\lib\\site-packages\\sklearn\\discriminant_analysis.py:906: RuntimeWarning: invalid value encountered in log\n",
      "  u = np.asarray([np.sum(np.log(s)) for s in self.scalings_])\n",
      "C:\\Users\\matti\\anaconda3\\envs\\P11\\lib\\site-packages\\sklearn\\discriminant_analysis.py:903: RuntimeWarning: invalid value encountered in power\n",
      "  X2 = np.dot(Xm, R * (S ** (-0.5)))\n",
      "C:\\Users\\matti\\anaconda3\\envs\\P11\\lib\\site-packages\\sklearn\\discriminant_analysis.py:906: RuntimeWarning: invalid value encountered in log\n",
      "  u = np.asarray([np.sum(np.log(s)) for s in self.scalings_])\n",
      "C:\\Users\\matti\\anaconda3\\envs\\P11\\lib\\site-packages\\sklearn\\discriminant_analysis.py:903: RuntimeWarning: invalid value encountered in power\n",
      "  X2 = np.dot(Xm, R * (S ** (-0.5)))\n",
      "C:\\Users\\matti\\anaconda3\\envs\\P11\\lib\\site-packages\\sklearn\\discriminant_analysis.py:906: RuntimeWarning: invalid value encountered in log\n",
      "  u = np.asarray([np.sum(np.log(s)) for s in self.scalings_])\n",
      "C:\\Users\\matti\\anaconda3\\envs\\P11\\lib\\site-packages\\sklearn\\discriminant_analysis.py:903: RuntimeWarning: invalid value encountered in power\n",
      "  X2 = np.dot(Xm, R * (S ** (-0.5)))\n",
      "C:\\Users\\matti\\anaconda3\\envs\\P11\\lib\\site-packages\\sklearn\\discriminant_analysis.py:906: RuntimeWarning: invalid value encountered in log\n",
      "  u = np.asarray([np.sum(np.log(s)) for s in self.scalings_])\n",
      "C:\\Users\\matti\\anaconda3\\envs\\P11\\lib\\site-packages\\sklearn\\discriminant_analysis.py:903: RuntimeWarning: invalid value encountered in power\n",
      "  X2 = np.dot(Xm, R * (S ** (-0.5)))\n",
      "C:\\Users\\matti\\anaconda3\\envs\\P11\\lib\\site-packages\\sklearn\\discriminant_analysis.py:906: RuntimeWarning: invalid value encountered in log\n",
      "  u = np.asarray([np.sum(np.log(s)) for s in self.scalings_])\n",
      "C:\\Users\\matti\\anaconda3\\envs\\P11\\lib\\site-packages\\sklearn\\discriminant_analysis.py:903: RuntimeWarning: invalid value encountered in power\n",
      "  X2 = np.dot(Xm, R * (S ** (-0.5)))\n",
      "C:\\Users\\matti\\anaconda3\\envs\\P11\\lib\\site-packages\\sklearn\\discriminant_analysis.py:906: RuntimeWarning: invalid value encountered in log\n",
      "  u = np.asarray([np.sum(np.log(s)) for s in self.scalings_])\n",
      "C:\\Users\\matti\\anaconda3\\envs\\P11\\lib\\site-packages\\sklearn\\discriminant_analysis.py:903: RuntimeWarning: invalid value encountered in power\n",
      "  X2 = np.dot(Xm, R * (S ** (-0.5)))\n",
      "C:\\Users\\matti\\anaconda3\\envs\\P11\\lib\\site-packages\\sklearn\\discriminant_analysis.py:906: RuntimeWarning: invalid value encountered in log\n",
      "  u = np.asarray([np.sum(np.log(s)) for s in self.scalings_])\n"
     ]
    },
    {
     "data": {
      "text/plain": [
       "GridSearchCV(cv=4, estimator=QuadraticDiscriminantAnalysis(),\n",
       "             param_grid=[{'reg_param': [0.1, 0.2, 0.23, 0.24, 0.25, 0.254,\n",
       "                                        0.255, 0.256, 0.26, 0.27, 0.28, 0.3,\n",
       "                                        0.4, 0.5, 0.6, 0.7, 0.8, 0.9, 1.1,\n",
       "                                        1.2]}])"
      ]
     },
     "execution_count": 49,
     "metadata": {},
     "output_type": "execute_result"
    }
   ],
   "source": [
    "# Defining parameters for GridSearchCV\n",
    "params = [{'reg_param': [0.1, 0.2,0.23,0.24,0.25,0.254,0.255,0.256,0.26,0.27,0.28,0.3, 0.4, 0.5,0.6,0.7,0.8,0.9,1.1,1.2]}]\n",
    "\n",
    "# Initialising algorithm \n",
    "qda = QuadraticDiscriminantAnalysis()\n",
    "\n",
    "# Outputting best param with GridDearch\n",
    "qda_best = GridSearchCV(qda, params,cv=4)\n",
    "\n",
    "# Fitting best paramters to X and y\n",
    "qda_best.fit(X,y)"
   ]
  },
  {
   "cell_type": "code",
   "execution_count": 50,
   "metadata": {},
   "outputs": [
    {
     "name": "stdout",
     "output_type": "stream",
     "text": [
      "The best parameters are: {'reg_param': 0.25}\n",
      "The best model score is: 0.964\n",
      "The best estimator is: QuadraticDiscriminantAnalysis(reg_param=0.25)\n"
     ]
    }
   ],
   "source": [
    "# Calling function to output best parameters \n",
    "print_best_model(qda_best)"
   ]
  },
  {
   "cell_type": "code",
   "execution_count": 51,
   "metadata": {},
   "outputs": [
    {
     "data": {
      "text/plain": [
       "QuadraticDiscriminantAnalysis(reg_param=0.25)"
      ]
     },
     "execution_count": 51,
     "metadata": {},
     "output_type": "execute_result"
    }
   ],
   "source": [
    "# Fitting best model\n",
    "model = QuadraticDiscriminantAnalysis(reg_param=0.25)\n",
    "model.fit(X_train, y_train)"
   ]
  },
  {
   "cell_type": "code",
   "execution_count": 52,
   "metadata": {},
   "outputs": [],
   "source": [
    "# Predicting using X_train \n",
    "qda_predict_train = model.predict(X_train)"
   ]
  },
  {
   "cell_type": "code",
   "execution_count": 53,
   "metadata": {},
   "outputs": [
    {
     "data": {
      "text/plain": [
       "0.8325"
      ]
     },
     "execution_count": 53,
     "metadata": {},
     "output_type": "execute_result"
    }
   ],
   "source": [
    "# Checking the accuracy score \n",
    "accuracy_score(y_train, qda_predict_train)"
   ]
  },
  {
   "cell_type": "code",
   "execution_count": 54,
   "metadata": {},
   "outputs": [
    {
     "name": "stdout",
     "output_type": "stream",
     "text": [
      "Classification Report of Quadratic Discriminant Analysis: \n",
      "\n",
      "              precision    recall  f1-score   support\n",
      "\n",
      "           0       0.78      0.85      0.82        34\n",
      "           1       0.73      0.61      0.67        44\n",
      "           2       0.69      0.42      0.52        52\n",
      "           3       0.74      0.98      0.85       109\n",
      "           4       0.99      0.92      0.95       161\n",
      "\n",
      "    accuracy                           0.83       400\n",
      "   macro avg       0.79      0.76      0.76       400\n",
      "weighted avg       0.84      0.83      0.82       400\n",
      "\n"
     ]
    }
   ],
   "source": [
    "# Viewing classification report\n",
    "print('Classification Report of Quadratic Discriminant Analysis: \\n')\n",
    "print(classification_report(y_train, qda_predict_train))"
   ]
  },
  {
   "cell_type": "code",
   "execution_count": 55,
   "metadata": {},
   "outputs": [],
   "source": [
    "# Predicting using X_test\n",
    "qda_predict_test = model.predict(X_test)"
   ]
  },
  {
   "cell_type": "code",
   "execution_count": 56,
   "metadata": {},
   "outputs": [
    {
     "data": {
      "text/plain": [
       "0.72"
      ]
     },
     "execution_count": 56,
     "metadata": {},
     "output_type": "execute_result"
    }
   ],
   "source": [
    "# Checking the accuracy score \n",
    "accuracy_score(y_test, qda_predict_test)"
   ]
  },
  {
   "cell_type": "code",
   "execution_count": 57,
   "metadata": {},
   "outputs": [
    {
     "name": "stdout",
     "output_type": "stream",
     "text": [
      "Classification Report of Quadratic Discriminant Analysis: \n",
      "\n",
      "              precision    recall  f1-score   support\n",
      "\n",
      "           0       0.00      0.00      0.00         0\n",
      "           1       0.92      0.52      0.67        21\n",
      "           2       0.50      0.31      0.38        16\n",
      "           3       0.55      1.00      0.71        21\n",
      "           4       1.00      0.83      0.91        42\n",
      "\n",
      "    accuracy                           0.72       100\n",
      "   macro avg       0.59      0.53      0.53       100\n",
      "weighted avg       0.81      0.72      0.73       100\n",
      "\n"
     ]
    },
    {
     "name": "stderr",
     "output_type": "stream",
     "text": [
      "C:\\Users\\matti\\anaconda3\\envs\\P11\\lib\\site-packages\\sklearn\\metrics\\_classification.py:1308: UndefinedMetricWarning: Recall and F-score are ill-defined and being set to 0.0 in labels with no true samples. Use `zero_division` parameter to control this behavior.\n",
      "  _warn_prf(average, modifier, msg_start, len(result))\n",
      "C:\\Users\\matti\\anaconda3\\envs\\P11\\lib\\site-packages\\sklearn\\metrics\\_classification.py:1308: UndefinedMetricWarning: Recall and F-score are ill-defined and being set to 0.0 in labels with no true samples. Use `zero_division` parameter to control this behavior.\n",
      "  _warn_prf(average, modifier, msg_start, len(result))\n",
      "C:\\Users\\matti\\anaconda3\\envs\\P11\\lib\\site-packages\\sklearn\\metrics\\_classification.py:1308: UndefinedMetricWarning: Recall and F-score are ill-defined and being set to 0.0 in labels with no true samples. Use `zero_division` parameter to control this behavior.\n",
      "  _warn_prf(average, modifier, msg_start, len(result))\n"
     ]
    }
   ],
   "source": [
    "# Viewing classification report\n",
    "print('Classification Report of Quadratic Discriminant Analysis: \\n')\n",
    "print(classification_report(y_test, qda_predict_test))\n"
   ]
  },
  {
   "cell_type": "code",
   "execution_count": 58,
   "metadata": {},
   "outputs": [
    {
     "name": "stdout",
     "output_type": "stream",
     "text": [
      "   0   1  2   3   4\n",
      "0  0   0  0   0   0\n",
      "1  5  11  5   0   0\n",
      "2  0   1  5  10   0\n",
      "3  0   0  0  21   0\n",
      "4  0   0  0   7  35\n"
     ]
    },
    {
     "name": "stderr",
     "output_type": "stream",
     "text": [
      "C:\\Users\\matti\\AppData\\Local\\Temp/ipykernel_10928/3428842729.py:16: UserWarning: Matplotlib is currently using agg, which is a non-GUI backend, so cannot show the figure.\n",
      "  plt.show()\n"
     ]
    }
   ],
   "source": [
    "# Plotting confusion matrix\n",
    "matrix = pd.DataFrame((metrics.confusion_matrix(y_test, qda_predict_test)), \n",
    "                      (0, 1, 2, 3, 4), \n",
    "                      (0, 1, 2, 3, 4))\n",
    "print(matrix)\n",
    "\n",
    "#visualize confusion matrix\n",
    "plt.figure(figsize = (8,5))\n",
    "heatmap = sns.heatmap(matrix, annot = True, annot_kws = {'size': 14}, fmt = 'd', cmap = 'YlGnBu')\n",
    "heatmap.yaxis.set_ticklabels(heatmap.yaxis.get_ticklabels(), rotation = 0, ha = 'right', fontsize = 14)\n",
    "heatmap.xaxis.set_ticklabels(heatmap.xaxis.get_ticklabels(), rotation = 0, ha = 'right', fontsize = 14)\n",
    "\n",
    "plt.title('Confusion Matrix\\n(Quadratic Discriminant Analysis)', fontsize = 18, color = 'darkblue')\n",
    "plt.ylabel('True label', fontsize = 14)\n",
    "plt.xlabel('Predicted label', fontsize = 14)\n",
    "plt.show()"
   ]
  },
  {
   "cell_type": "code",
   "execution_count": 59,
   "metadata": {},
   "outputs": [
    {
     "name": "stdout",
     "output_type": "stream",
     "text": [
      "Mean Squared Error : 0.28\n",
      "Root Mean Squared Error : 0.5291502622129182\n"
     ]
    }
   ],
   "source": [
    "# Error checking of MSE & RMSE \n",
    "mse = metrics.mean_squared_error(y_test,qda_predict_test)\n",
    "print('Mean Squared Error : '+ str(mse))\n",
    "rmse = math.sqrt(metrics.mean_squared_error(y_test, qda_predict_test))\n",
    "print('Root Mean Squared Error : '+ str(rmse))"
   ]
  },
  {
   "cell_type": "code",
   "execution_count": 60,
   "metadata": {},
   "outputs": [
    {
     "name": "stderr",
     "output_type": "stream",
     "text": [
      "C:\\Users\\matti\\anaconda3\\envs\\P11\\lib\\site-packages\\seaborn\\distributions.py:2619: FutureWarning: `distplot` is a deprecated function and will be removed in a future version. Please adapt your code to use either `displot` (a figure-level function with similar flexibility) or `histplot` (an axes-level function for histograms).\n",
      "  warnings.warn(msg, FutureWarning)\n"
     ]
    },
    {
     "data": {
      "text/plain": [
       "<AxesSubplot:title={'center':'Confusion Matrix\\n(Quadratic Discriminant Analysis)'}, xlabel='bmi', ylabel='True label'>"
      ]
     },
     "execution_count": 60,
     "metadata": {},
     "output_type": "execute_result"
    }
   ],
   "source": [
    "# Showing difference between y-test value and results from X_test\n",
    "sns.distplot(y_test-qda_predict_test)"
   ]
  },
  {
   "cell_type": "code",
   "execution_count": 61,
   "metadata": {},
   "outputs": [
    {
     "name": "stderr",
     "output_type": "stream",
     "text": [
      "C:\\Users\\matti\\AppData\\Local\\Temp/ipykernel_10928/3975312387.py:6: UserWarning: Matplotlib is currently using agg, which is a non-GUI backend, so cannot show the figure.\n",
      "  plt.show()\n"
     ]
    }
   ],
   "source": [
    "# Plot is linear so prediction is fairly accurate \n",
    "plt.scatter(y_test, qda_predict_test)\n",
    "plt.xlabel(\"Actual Price\")\n",
    "plt.ylabel(\"Predicted Price\")\n",
    "plt.title(\" Actual Prices vs Predicted Prices\")\n",
    "plt.show()"
   ]
  },
  {
   "cell_type": "code",
   "execution_count": 62,
   "metadata": {},
   "outputs": [
    {
     "data": {
      "text/plain": [
       "QuadraticDiscriminantAnalysis(reg_param=0.25)"
      ]
     },
     "execution_count": 62,
     "metadata": {},
     "output_type": "execute_result"
    }
   ],
   "source": [
    "# Fitting the model \n",
    "model.fit(X, y)"
   ]
  },
  {
   "cell_type": "markdown",
   "metadata": {},
   "source": [
    "#### **----------------------------------  9. Exporting Model -----------------------------------**"
   ]
  },
  {
   "cell_type": "code",
   "execution_count": 69,
   "metadata": {},
   "outputs": [],
   "source": [
    "# dump information to that file\n",
    "pickle.dump(model, open('.././_analysis.pkl', 'wb'))\n",
    "../../"
   ]
  },
  {
   "cell_type": "code",
   "execution_count": 71,
   "metadata": {},
   "outputs": [],
   "source": [
    "# update absolute and relative paths file\n",
    "# remove gender from model "
   ]
  }
 ],
 "metadata": {
  "interpreter": {
   "hash": "11e5f1a557f2b5c3140b1b7cd69ad7c03614ee3c72f684193d330adea27c2574"
  },
  "kernelspec": {
   "display_name": "Python 3.8.12 64-bit ('P11': conda)",
   "language": "python",
   "name": "python3"
  },
  "language_info": {
   "codemirror_mode": {
    "name": "ipython",
    "version": 3
   },
   "file_extension": ".py",
   "mimetype": "text/x-python",
   "name": "python",
   "nbconvert_exporter": "python",
   "pygments_lexer": "ipython3",
   "version": "3.8.12"
  },
  "orig_nbformat": 4
 },
 "nbformat": 4,
 "nbformat_minor": 2
}
